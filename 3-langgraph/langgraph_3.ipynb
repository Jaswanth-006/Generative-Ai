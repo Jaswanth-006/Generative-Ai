{
 "cells": [
  {
   "cell_type": "code",
   "execution_count": 1,
   "id": "51127826",
   "metadata": {},
   "outputs": [],
   "source": [
    "import os\n",
    "import certifi\n",
    "os.environ['SSL_CERT_FILE'] = certifi.where()\n",
    "from dotenv import load_dotenv\n",
    "load_dotenv()\n",
    "\n",
    "os.environ['GROQ_API_KEY'] = os.getenv(\"GROQ_API_KEY\")"
   ]
  },
  {
   "cell_type": "code",
   "execution_count": 2,
   "id": "84f7212d",
   "metadata": {},
   "outputs": [
    {
     "name": "stdout",
     "output_type": "stream",
     "text": [
      "<think>\n",
      "\n",
      "</think>\n",
      "\n",
      "Hello! How can I assist you today? 😊\n"
     ]
    }
   ],
   "source": [
    "model=\"deepseek-r1-distill-llama-70b\"\n",
    "from langchain_groq import ChatGroq\n",
    "llm=ChatGroq(model=model)\n",
    "llm.invoke(\"hi\")\n",
    "print(llm.invoke(\"hi\").content)"
   ]
  },
  {
   "cell_type": "code",
   "execution_count": 3,
   "id": "d37bdf2f",
   "metadata": {},
   "outputs": [
    {
     "name": "stdout",
     "output_type": "stream",
     "text": [
      "<think>\n",
      "\n",
      "</think>\n",
      "\n",
      "Hello! How can I assist you today? 😊\n"
     ]
    }
   ],
   "source": [
    "print(llm.invoke(\"hi\").content)"
   ]
  },
  {
   "cell_type": "code",
   "execution_count": 4,
   "id": "4062d800",
   "metadata": {},
   "outputs": [],
   "source": [
    "from langchain_core.tools import tool\n",
    "from langchain_core.messages import HumanMessage ,AIMessage\n",
    "from langgraph.graph import StateGraph,MessagesState,START,END\n",
    "from typing import TypedDict, Annotated, Sequence\n",
    "\n"
   ]
  },
  {
   "cell_type": "markdown",
   "id": "d26af8f9",
   "metadata": {},
   "source": [
    "## Design a simple Workflow without tool calling "
   ]
  },
  {
   "cell_type": "code",
   "execution_count": 5,
   "id": "989cf894",
   "metadata": {},
   "outputs": [],
   "source": [
    "def call_model(state: MessagesState):\n",
    "    messages = state['messages']\n",
    "    responce = llm.invoke(messages)\n",
    "    return {\"messages\":[responce]}"
   ]
  },
  {
   "cell_type": "code",
   "execution_count": 6,
   "id": "7946506a",
   "metadata": {},
   "outputs": [],
   "source": [
    "state = {\"messages\":[\"hi hello how are you?\"]}"
   ]
  },
  {
   "cell_type": "code",
   "execution_count": 7,
   "id": "1d5928c5",
   "metadata": {},
   "outputs": [
    {
     "data": {
      "text/plain": [
       "{'messages': [AIMessage(content=\"<think>\\n\\n</think>\\n\\nHello! I'm just a virtual assistant, so I don't have feelings, but I'm here and ready to help you. How are you doing? 😊\", additional_kwargs={}, response_metadata={'token_usage': {'completion_tokens': 38, 'prompt_tokens': 9, 'total_tokens': 47, 'completion_time': 0.183930615, 'prompt_time': 0.009835372, 'queue_time': 0.049612708, 'total_time': 0.193765987}, 'model_name': 'deepseek-r1-distill-llama-70b', 'system_fingerprint': 'fp_1bbe7845ec', 'service_tier': 'on_demand', 'finish_reason': 'stop', 'logprobs': None}, id='run--77a7960e-f58e-4e1d-b7aa-ee0cfc842088-0', usage_metadata={'input_tokens': 9, 'output_tokens': 38, 'total_tokens': 47})]}"
      ]
     },
     "execution_count": 7,
     "metadata": {},
     "output_type": "execute_result"
    }
   ],
   "source": [
    "call_model(state)"
   ]
  },
  {
   "cell_type": "code",
   "execution_count": 8,
   "id": "02754604",
   "metadata": {},
   "outputs": [],
   "source": [
    "# from langchain_core.messages import AnyMessage\n",
    "# class MessagesState(TypedDict):\n",
    "#     messages: Annotated[list[AnyMessage], add_messages]\n"
   ]
  },
  {
   "cell_type": "code",
   "execution_count": 9,
   "id": "d284205a",
   "metadata": {},
   "outputs": [],
   "source": [
    "workflow = StateGraph(MessagesState)"
   ]
  },
  {
   "cell_type": "code",
   "execution_count": 10,
   "id": "36d6a839",
   "metadata": {},
   "outputs": [
    {
     "data": {
      "text/plain": [
       "<langgraph.graph.state.StateGraph at 0x21232da02b0>"
      ]
     },
     "execution_count": 10,
     "metadata": {},
     "output_type": "execute_result"
    }
   ],
   "source": [
    "workflow.add_node(\"my_bot\",call_model)"
   ]
  },
  {
   "cell_type": "code",
   "execution_count": 11,
   "id": "7d821b44",
   "metadata": {},
   "outputs": [
    {
     "data": {
      "text/plain": [
       "<langgraph.graph.state.StateGraph at 0x21232da02b0>"
      ]
     },
     "execution_count": 11,
     "metadata": {},
     "output_type": "execute_result"
    }
   ],
   "source": [
    "workflow.add_edge(START,\"my_bot\")\n"
   ]
  },
  {
   "cell_type": "code",
   "execution_count": 12,
   "id": "57f6d9a8",
   "metadata": {},
   "outputs": [
    {
     "data": {
      "text/plain": [
       "<langgraph.graph.state.StateGraph at 0x21232da02b0>"
      ]
     },
     "execution_count": 12,
     "metadata": {},
     "output_type": "execute_result"
    }
   ],
   "source": [
    "workflow.add_edge(\"my_bot\",END)"
   ]
  },
  {
   "cell_type": "code",
   "execution_count": 13,
   "id": "19965e12",
   "metadata": {},
   "outputs": [],
   "source": [
    "app  = workflow.compile()"
   ]
  },
  {
   "cell_type": "code",
   "execution_count": 14,
   "id": "7271d514",
   "metadata": {},
   "outputs": [
    {
     "data": {
      "image/png": "[encoded data removed]",
      "text/plain": [
       "<IPython.core.display.Image object>"
      ]
     },
     "metadata": {},
     "output_type": "display_data"
    }
   ],
   "source": [
    "from IPython.display import Image ,display\n",
    "display(Image(app.get_graph().draw_mermaid_png()))"
   ]
  },
  {
   "cell_type": "code",
   "execution_count": 15,
   "id": "f05293be",
   "metadata": {},
   "outputs": [],
   "source": [
    "input={\"messages\":[\"hi hello how are you?\"]}\n"
   ]
  },
  {
   "cell_type": "code",
   "execution_count": 16,
   "id": "b4436365",
   "metadata": {},
   "outputs": [
    {
     "data": {
      "text/plain": [
       "{'messages': [HumanMessage(content='hi hello how are you?', additional_kwargs={}, response_metadata={}, id='36ab1de8-b5f9-4ad0-a081-07192a26bf14'),\n",
       "  AIMessage(content=\"<think>\\n\\n</think>\\n\\nHello! I'm just a virtual assistant, so I don't have feelings, but I'm here and ready to help you with whatever you need. How are *you* doing? 😊\", additional_kwargs={}, response_metadata={'token_usage': {'completion_tokens': 44, 'prompt_tokens': 9, 'total_tokens': 53, 'completion_time': 0.203055139, 'prompt_time': 0.010065348, 'queue_time': 0.049320309, 'total_time': 0.213120487}, 'model_name': 'deepseek-r1-distill-llama-70b', 'system_fingerprint': 'fp_1bbe7845ec', 'service_tier': 'on_demand', 'finish_reason': 'stop', 'logprobs': None}, id='run--d19a67b0-4c83-4129-ae29-de129e8922f1-0', usage_metadata={'input_tokens': 9, 'output_tokens': 44, 'total_tokens': 53})]}"
      ]
     },
     "execution_count": 16,
     "metadata": {},
     "output_type": "execute_result"
    }
   ],
   "source": [
    "app.invoke(input)"
   ]
  },
  {
   "cell_type": "code",
   "execution_count": 17,
   "id": "19d7d90e",
   "metadata": {},
   "outputs": [
    {
     "name": "stdout",
     "output_type": "stream",
     "text": [
      "Output from my_bot Node\n",
      "_______\n",
      "{'messages': [AIMessage(content=\"<think>\\n\\n</think>\\n\\nHello! I'm just a virtual assistant, so I don't have feelings, but I'm here and ready to help you with whatever you need. How are you doing? 😊\", additional_kwargs={}, response_metadata={'token_usage': {'completion_tokens': 42, 'prompt_tokens': 9, 'total_tokens': 51, 'completion_time': 0.195889378, 'prompt_time': 0.009901691, 'queue_time': 0.049328979, 'total_time': 0.205791069}, 'model_name': 'deepseek-r1-distill-llama-70b', 'system_fingerprint': 'fp_1bbe7845ec', 'service_tier': 'on_demand', 'finish_reason': 'stop', 'logprobs': None}, id='run--a53c65dd-85d0-4f57-920a-d563d6f3267f-0', usage_metadata={'input_tokens': 9, 'output_tokens': 42, 'total_tokens': 51})]}\n",
      "\n",
      "\n"
     ]
    }
   ],
   "source": [
    "for output in app.stream(input):\n",
    "    for key,value in output.items():\n",
    "        print(f\"Output from {key} Node\")\n",
    "        print(\"_______\")\n",
    "        print(value)\n",
    "        print(\"\\n\")"
   ]
  },
  {
   "cell_type": "markdown",
   "id": "4f8d5ca3",
   "metadata": {},
   "source": [
    "## Design a simple Workflow without tool calling "
   ]
  },
  {
   "cell_type": "code",
   "execution_count": 18,
   "id": "431d3090",
   "metadata": {},
   "outputs": [],
   "source": [
    "@tool\n",
    "def search(query:str):\n",
    "    \"\"\"this is my custom for seaching a weather\"\"\"\n",
    "    if \"delhi\" in query.lower():\n",
    "        return \"the temp is 45 degtrress and sunny \"\n",
    "    return \" the temp is 25 degress cloudy\""
   ]
  },
  {
   "cell_type": "code",
   "execution_count": 19,
   "id": "127b30f0",
   "metadata": {},
   "outputs": [
    {
     "data": {
      "text/plain": [
       "' the temp is 25 degress cloudy'"
      ]
     },
     "execution_count": 19,
     "metadata": {},
     "output_type": "execute_result"
    }
   ],
   "source": [
    "search.invoke(\"what is s temparature in kashmir?\")"
   ]
  },
  {
   "cell_type": "code",
   "execution_count": 20,
   "id": "e208aa62",
   "metadata": {},
   "outputs": [
    {
     "data": {
      "text/plain": [
       "'the temp is 45 degtrress and sunny '"
      ]
     },
     "execution_count": 20,
     "metadata": {},
     "output_type": "execute_result"
    }
   ],
   "source": [
    "search.invoke(\"what is s temparature in delhi?\")"
   ]
  },
  {
   "cell_type": "code",
   "execution_count": 21,
   "id": "6d3f8492",
   "metadata": {},
   "outputs": [
    {
     "data": {
      "text/plain": [
       "StructuredTool(name='search', description='this is my custom for seaching a weather', args_schema=<class 'langchain_core.utils.pydantic.search'>, func=<function search at 0x0000021235484A60>)"
      ]
     },
     "execution_count": 21,
     "metadata": {},
     "output_type": "execute_result"
    }
   ],
   "source": [
    "search"
   ]
  },
  {
   "cell_type": "code",
   "execution_count": 22,
   "id": "eeb991f7",
   "metadata": {},
   "outputs": [
    {
     "data": {
      "text/plain": [
       "AIMessage(content=\"<think>\\nOkay, so I need to figure out the weather in Delhi. I'm not exactly sure how to start, but I know Delhi is a city in India. I think India has a monsoon climate, but I'm not entirely certain. Maybe I should break this down by seasons.\\n\\nFirst, I remember that India has a monsoon season, which usually brings a lot of rain. So, I think Delhi probably experiences that too. But when exactly is the monsoon in Delhi? I think it's around July to September, but I'm not 100% sure. I should probably confirm that.\\n\\nThen, there are the other seasons. I think India has a winter, summer, and monsoon season. So, in Delhi, the summer must be really hot. I've heard that summers in Delhi can be quite harsh. Maybe the temperatures go up to 40 degrees Celsius or more. That's really hot. When does summer start and end? Probably around March to June.\\n\\nWinter would be the cooler season. I imagine it's not too cold, but maybe it can get chilly, especially in the mornings and evenings. I think winters in Delhi are from October to February. But how cold does it get? Maybe around 10 degrees Celsius? I'm not sure if it ever snows there. I don't think it does, but perhaps there are some foggy days.\\n\\nI should also consider the monsoon season. I think it's the wettest part of the year. So, from July to September, Delhi would receive most of its rainfall. That would make the summers a bit more bearable, but the humidity might be high during that time.\\n\\nWait, I also remember something about an extreme climate in Delhi, like heatwaves in the summer. That could be dangerous, especially for vulnerable people. And in the winter, sometimes there's a lot of fog, which might affect transportation, like flights and trains.\\n\\nI'm not sure about the exact temperatures, but I can make educated guesses. In summer, the maximum temperature might go up to 45 degrees Celsius, and in winter, the minimum could drop to around 5 degrees Celsius. But I'm not certain about these exact numbers.\\n\\nAlso, the weather can vary from year to year. Some years might be hotter or cooler than usual. I think climate change is affecting the weather patterns, making some extremes more frequent.\\n\\nI should probably check if there are any specific weather phenomena in Delhi, like dust storms before the monsoon starts. I think that happens sometimes, bringing sudden changes in temperature and wind.\\n\\nSo, putting it all together, Delhi has hot summers, a rainy monsoon season, and cool winters. The exact timing is something like summer from March to June, monsoon from July to September, and winter from October to February. Each season has its own characteristics, like high heat in summer, heavy rain in monsoon, and cooler temperatures in winter.\\n\\nI might be missing some details, like the exact average temperatures or specific weather events, but this gives a general idea of what the weather in Delhi is like throughout the year.\\n</think>\\n\\nDelhi experiences a diverse climate with three main seasons: summer, monsoon, and winter.\\n\\n1. **Summer (March to June):**\\n   - Characterized by high temperatures, often reaching up to 45°C.\\n   - Heatwaves are common, posing health risks, especially to vulnerable populations.\\n\\n2. **Monsoon (July to September):**\\n   - Marks the wettest period with significant rainfall.\\n   - Accompanied by high humidity and occasional dust storms before the monsoon begins.\\n\\n3. **Winter (October to February):**\\n   - Cooler season with temperatures as low as 5°C.\\n   - Foggy conditions are common, potentially affecting transportation.\\n\\nClimate change influences weather patterns, leading to more frequent extremes. Delhi's climate is thus a mix of hot summers, a rainy monsoon, and cool winters.\", additional_kwargs={}, response_metadata={'token_usage': {'completion_tokens': 799, 'prompt_tokens': 12, 'total_tokens': 811, 'completion_time': 3.84190073, 'prompt_time': 0.016717328, 'queue_time': 0.045436219, 'total_time': 3.8586180580000002}, 'model_name': 'deepseek-r1-distill-llama-70b', 'system_fingerprint': 'fp_1bbe7845ec', 'service_tier': 'on_demand', 'finish_reason': 'stop', 'logprobs': None}, id='run--e4c87f7a-dc4c-446e-81c2-52c561ef8420-0', usage_metadata={'input_tokens': 12, 'output_tokens': 799, 'total_tokens': 811})"
      ]
     },
     "execution_count": 22,
     "metadata": {},
     "output_type": "execute_result"
    }
   ],
   "source": [
    "llm.invoke(\"what  is a weather in delhi?\")"
   ]
  },
  {
   "cell_type": "markdown",
   "id": "b3504d47",
   "metadata": {},
   "source": [
    "## Binding a tool to the llm\n"
   ]
  },
  {
   "cell_type": "code",
   "execution_count": 23,
   "id": "3945b227",
   "metadata": {},
   "outputs": [],
   "source": [
    "tools = [search]"
   ]
  },
  {
   "cell_type": "code",
   "execution_count": 24,
   "id": "4bfda36e",
   "metadata": {},
   "outputs": [],
   "source": [
    "llm_with_tool = llm.bind_tools(tools)"
   ]
  },
  {
   "cell_type": "code",
   "execution_count": 25,
   "id": "bbdc1c9e",
   "metadata": {},
   "outputs": [],
   "source": [
    "responce = llm_with_tool.invoke(\"what is a weather is delhi?\")"
   ]
  },
  {
   "cell_type": "code",
   "execution_count": 26,
   "id": "c156727b",
   "metadata": {},
   "outputs": [
    {
     "data": {
      "text/plain": [
       "AIMessage(content='', additional_kwargs={'reasoning_content': 'Alright, the user is asking about the weather in Delhi. They might be planning a trip or just curious. I should use the search tool to find the current weather conditions. I\\'ll call the search function with \"delhi weather\" as the query. That should give me the latest info to share with the user.\\n', 'tool_calls': [{'id': '5j8ktsrg8', 'function': {'arguments': '{\"query\":\"delhi weather\"}', 'name': 'search'}, 'type': 'function'}]}, response_metadata={'token_usage': {'completion_tokens': 89, 'prompt_tokens': 133, 'total_tokens': 222, 'completion_time': 0.407846706, 'prompt_time': 0.112214251, 'queue_time': 5.696236305, 'total_time': 0.520060957}, 'model_name': 'deepseek-r1-distill-llama-70b', 'system_fingerprint': 'fp_1bbe7845ec', 'service_tier': 'on_demand', 'finish_reason': 'tool_calls', 'logprobs': None}, id='run--f77a5f22-8cb9-4037-bcdc-ad49cee6084a-0', tool_calls=[{'name': 'search', 'args': {'query': 'delhi weather'}, 'id': '5j8ktsrg8', 'type': 'tool_call'}], usage_metadata={'input_tokens': 133, 'output_tokens': 89, 'total_tokens': 222})"
      ]
     },
     "execution_count": 26,
     "metadata": {},
     "output_type": "execute_result"
    }
   ],
   "source": [
    "responce"
   ]
  },
  {
   "cell_type": "code",
   "execution_count": 27,
   "id": "ee1d87d5",
   "metadata": {},
   "outputs": [
    {
     "data": {
      "text/plain": [
       "''"
      ]
     },
     "execution_count": 27,
     "metadata": {},
     "output_type": "execute_result"
    }
   ],
   "source": [
    "responce.content"
   ]
  },
  {
   "cell_type": "code",
   "execution_count": 28,
   "id": "9b21c662",
   "metadata": {},
   "outputs": [
    {
     "data": {
      "text/plain": [
       "[{'name': 'search',\n",
       "  'args': {'query': 'delhi weather'},\n",
       "  'id': '5j8ktsrg8',\n",
       "  'type': 'tool_call'}]"
      ]
     },
     "execution_count": 28,
     "metadata": {},
     "output_type": "execute_result"
    }
   ],
   "source": [
    "responce.tool_calls"
   ]
  },
  {
   "cell_type": "code",
   "execution_count": 29,
   "id": "fe7f4a3d",
   "metadata": {},
   "outputs": [],
   "source": [
    "def call_model(state:MessagesState):\n",
    "    question = state[\"messages\"]\n",
    "    responce = llm_with_tool.invoke(question)\n",
    "    return {\"messages\":[responce]}\n"
   ]
  },
  {
   "cell_type": "code",
   "execution_count": 30,
   "id": "17e82811",
   "metadata": {},
   "outputs": [],
   "source": [
    "input = {\"messages\":[\"what is the weather is delhi\"]}"
   ]
  },
  {
   "cell_type": "code",
   "execution_count": 31,
   "id": "b655a805",
   "metadata": {},
   "outputs": [],
   "source": [
    "responce = call_model(input)"
   ]
  },
  {
   "cell_type": "code",
   "execution_count": 32,
   "id": "90ecc2ab",
   "metadata": {},
   "outputs": [
    {
     "data": {
      "text/plain": [
       "''"
      ]
     },
     "execution_count": 32,
     "metadata": {},
     "output_type": "execute_result"
    }
   ],
   "source": [
    "responce[\"messages\"][-1].content"
   ]
  },
  {
   "cell_type": "code",
   "execution_count": 33,
   "id": "b54184ba",
   "metadata": {},
   "outputs": [
    {
     "data": {
      "text/plain": [
       "[{'name': 'search',\n",
       "  'args': {'query': 'weather in Delhi'},\n",
       "  'id': 'z2watpjs4',\n",
       "  'type': 'tool_call'}]"
      ]
     },
     "execution_count": 33,
     "metadata": {},
     "output_type": "execute_result"
    }
   ],
   "source": [
    "responce[\"messages\"][-1].tool_calls"
   ]
  },
  {
   "cell_type": "code",
   "execution_count": null,
   "id": "b9d48227",
   "metadata": {},
   "outputs": [],
   "source": []
  },
  {
   "cell_type": "markdown",
   "id": "6c40308b",
   "metadata": {},
   "source": [
    "## Router function for orchestration "
   ]
  },
  {
   "cell_type": "markdown",
   "id": "4050edf9",
   "metadata": {},
   "source": [
    "now whatever will come from call_model router funtion will redirect this to the appropriate tool\n"
   ]
  },
  {
   "cell_type": "code",
   "execution_count": 34,
   "id": "9fb13734",
   "metadata": {},
   "outputs": [],
   "source": [
    "from langgraph.prebuilt import ToolNode"
   ]
  },
  {
   "cell_type": "code",
   "execution_count": 35,
   "id": "1ebf0c6e",
   "metadata": {},
   "outputs": [],
   "source": [
    "def router_function(state:MessagesState):\n",
    "    message = state['messages']\n",
    "    last"
   ]
  }
 ],
 "metadata": {
  "kernelspec": {
   "display_name": "Python 3",
   "language": "python",
   "name": "python3"
  },
  "language_info": {
   "codemirror_mode": {
    "name": "ipython",
    "version": 3
   },
   "file_extension": ".py",
   "mimetype": "text/x-python",
   "name": "python",
   "nbconvert_exporter": "python",
   "pygments_lexer": "ipython3",
   "version": "3.10.16"
  }
 },
 "nbformat": 4,
 "nbformat_minor": 5
}
