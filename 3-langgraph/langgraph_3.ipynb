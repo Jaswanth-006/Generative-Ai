{
 "cells": [
  {
   "cell_type": "code",
   "execution_count": 49,
   "id": "51127826",
   "metadata": {},
   "outputs": [
    {
     "name": "stdout",
     "output_type": "stream",
     "text": [
      "all ok\n"
     ]
    }
   ],
   "source": [
    "import os\n",
    "print(\"all ok\")\n",
    "import certifi\n",
    "os.environ['SSL_CERT_FILE'] = certifi.where()"
   ]
  },
  {
   "cell_type": "code",
   "execution_count": 50,
   "id": "f5de6cc8",
   "metadata": {},
   "outputs": [],
   "source": [
    "from dotenv import load_dotenv\n",
    "load_dotenv()\n",
    "\n",
    "os.environ['GROQ_API_KEY'] = os.getenv(\"GROQ_API_KEY\")"
   ]
  },
  {
   "cell_type": "code",
   "execution_count": 51,
   "id": "a9d4bf11",
   "metadata": {},
   "outputs": [],
   "source": [
    "model=\"deepseek-r1-distill-llama-70b\"\n",
    "from langchain_groq import ChatGroq\n"
   ]
  },
  {
   "cell_type": "code",
   "execution_count": 52,
   "id": "84f7212d",
   "metadata": {},
   "outputs": [
    {
     "data": {
      "text/plain": [
       "AIMessage(content='<think>\\n\\n</think>\\n\\nHello! How can I assist you today? 😊', additional_kwargs={}, response_metadata={'token_usage': {'completion_tokens': 16, 'prompt_tokens': 4, 'total_tokens': 20, 'completion_time': 0.071005191, 'prompt_time': 0.009323901, 'queue_time': 0.043219886, 'total_time': 0.080329092}, 'model_name': 'deepseek-r1-distill-llama-70b', 'system_fingerprint': 'fp_1bbe7845ec', 'finish_reason': 'stop', 'logprobs': None}, id='run--1a1fbcd6-3843-4ea1-b4b4-98cc16955b98-0', usage_metadata={'input_tokens': 4, 'output_tokens': 16, 'total_tokens': 20})"
      ]
     },
     "execution_count": 52,
     "metadata": {},
     "output_type": "execute_result"
    }
   ],
   "source": [
    "llm=ChatGroq(model=model)\n",
    "llm.invoke(\"hi\")"
   ]
  },
  {
   "cell_type": "code",
   "execution_count": 53,
   "id": "d37bdf2f",
   "metadata": {},
   "outputs": [
    {
     "name": "stdout",
     "output_type": "stream",
     "text": [
      "<think>\n",
      "\n",
      "</think>\n",
      "\n",
      "Hello! How can I assist you today? 😊\n"
     ]
    }
   ],
   "source": [
    "print(llm.invoke(\"hi\").content)"
   ]
  },
  {
   "cell_type": "code",
   "execution_count": 54,
   "id": "4062d800",
   "metadata": {},
   "outputs": [],
   "source": [
    "from langchain_core.tools import tool\n",
    "from langchain_core.messages import HumanMessage ,AIMessage\n",
    "from langgraph.graph import StateGraph,MessagesState,START,END\n"
   ]
  },
  {
   "cell_type": "code",
   "execution_count": 55,
   "id": "989cf894",
   "metadata": {},
   "outputs": [],
   "source": [
    "def call_model(state: MessagesState):\n",
    "    messages = state['messages']\n",
    "    responce = llm.invoke(messages)\n",
    "    return {\"messages\":[responce]}"
   ]
  },
  {
   "cell_type": "code",
   "execution_count": 56,
   "id": "7946506a",
   "metadata": {},
   "outputs": [],
   "source": [
    "state = {\"messages\":[\"hi hello how are you?\"]}"
   ]
  },
  {
   "cell_type": "code",
   "execution_count": 57,
   "id": "1d5928c5",
   "metadata": {},
   "outputs": [
    {
     "data": {
      "text/plain": [
       "{'messages': [AIMessage(content=\"<think>\\n\\n</think>\\n\\nHello! I'm just a virtual assistant, so I don't have feelings, but I'm here and ready to help you with whatever you need. How are you doing? 😊\", additional_kwargs={}, response_metadata={'token_usage': {'completion_tokens': 42, 'prompt_tokens': 9, 'total_tokens': 51, 'completion_time': 0.178651067, 'prompt_time': 0.00994363, 'queue_time': 0.048661617, 'total_time': 0.188594697}, 'model_name': 'deepseek-r1-distill-llama-70b', 'system_fingerprint': 'fp_1bbe7845ec', 'finish_reason': 'stop', 'logprobs': None}, id='run--52b5ded2-4ae4-45dc-a7b4-005c95d00c73-0', usage_metadata={'input_tokens': 9, 'output_tokens': 42, 'total_tokens': 51})]}"
      ]
     },
     "execution_count": 57,
     "metadata": {},
     "output_type": "execute_result"
    }
   ],
   "source": [
    "call_model(state)"
   ]
  },
  {
   "cell_type": "markdown",
   "id": "6b59f647",
   "metadata": {},
   "source": [
    "## Design a simple Workflow without tool calling "
   ]
  },
  {
   "cell_type": "code",
   "execution_count": 58,
   "id": "d284205a",
   "metadata": {},
   "outputs": [],
   "source": [
    "workflow = StateGraph(MessagesState)"
   ]
  },
  {
   "cell_type": "code",
   "execution_count": 59,
   "id": "36d6a839",
   "metadata": {},
   "outputs": [
    {
     "data": {
      "text/plain": [
       "<langgraph.graph.state.StateGraph at 0x288ba502210>"
      ]
     },
     "execution_count": 59,
     "metadata": {},
     "output_type": "execute_result"
    }
   ],
   "source": [
    "workflow.add_node(\"my_bot\",call_model)"
   ]
  },
  {
   "cell_type": "code",
   "execution_count": 60,
   "id": "7d821b44",
   "metadata": {},
   "outputs": [
    {
     "data": {
      "text/plain": [
       "<langgraph.graph.state.StateGraph at 0x288ba502210>"
      ]
     },
     "execution_count": 60,
     "metadata": {},
     "output_type": "execute_result"
    }
   ],
   "source": [
    "workflow.add_edge(START,\"my_bot\")\n"
   ]
  },
  {
   "cell_type": "code",
   "execution_count": 61,
   "id": "57f6d9a8",
   "metadata": {},
   "outputs": [
    {
     "data": {
      "text/plain": [
       "<langgraph.graph.state.StateGraph at 0x288ba502210>"
      ]
     },
     "execution_count": 61,
     "metadata": {},
     "output_type": "execute_result"
    }
   ],
   "source": [
    "workflow.add_edge(\"my_bot\",END)"
   ]
  },
  {
   "cell_type": "code",
   "execution_count": 62,
   "id": "19965e12",
   "metadata": {},
   "outputs": [],
   "source": [
    "app  = workflow.compile()"
   ]
  },
  {
   "cell_type": "code",
   "execution_count": 63,
   "id": "7271d514",
   "metadata": {},
   "outputs": [
    {
     "data": {
      "image/png": "[encoded data removed]",
      "text/plain": [
       "<IPython.core.display.Image object>"
      ]
     },
     "metadata": {},
     "output_type": "display_data"
    }
   ],
   "source": [
    "from IPython.display import Image ,display\n",
    "display(Image(app.get_graph().draw_mermaid_png()))"
   ]
  },
  {
   "cell_type": "code",
   "execution_count": 66,
   "id": "f05293be",
   "metadata": {},
   "outputs": [],
   "source": [
    "input={\"messages\":[\"hi hello how are you?\"]}\n"
   ]
  },
  {
   "cell_type": "code",
   "execution_count": 67,
   "id": "b4436365",
   "metadata": {},
   "outputs": [
    {
     "data": {
      "text/plain": [
       "{'messages': [HumanMessage(content='hi hello how are you?', additional_kwargs={}, response_metadata={}, id='fce78518-e026-4bf3-ac12-2e2c3e0377ed'),\n",
       "  AIMessage(content=\"<think>\\n\\n</think>\\n\\nHello! I'm just a virtual assistant, so I don't have feelings, but I'm here and ready to help you with whatever you need. How are you doing? 😊\", additional_kwargs={}, response_metadata={'token_usage': {'completion_tokens': 42, 'prompt_tokens': 9, 'total_tokens': 51, 'completion_time': 0.197472996, 'prompt_time': 0.009841917, 'queue_time': 0.049759934, 'total_time': 0.207314913}, 'model_name': 'deepseek-r1-distill-llama-70b', 'system_fingerprint': 'fp_1bbe7845ec', 'finish_reason': 'stop', 'logprobs': None}, id='run--01cf1420-c131-4db2-99a2-607d21dae0ea-0', usage_metadata={'input_tokens': 9, 'output_tokens': 42, 'total_tokens': 51})]}"
      ]
     },
     "execution_count": 67,
     "metadata": {},
     "output_type": "execute_result"
    }
   ],
   "source": [
    "app.invoke(input)"
   ]
  },
  {
   "cell_type": "code",
   "execution_count": 68,
   "id": "19d7d90e",
   "metadata": {},
   "outputs": [
    {
     "name": "stdout",
     "output_type": "stream",
     "text": [
      "Output from my_bot Node\n",
      "_______\n",
      "{'messages': [AIMessage(content=\"<think>\\n\\n</think>\\n\\nHello! I'm just a virtual assistant, so I don't have feelings, but I'm here and ready to help you with whatever you need. How are you doing? 😊\", additional_kwargs={}, response_metadata={'token_usage': {'completion_tokens': 42, 'prompt_tokens': 9, 'total_tokens': 51, 'completion_time': 0.175435409, 'prompt_time': 0.014857273, 'queue_time': 0.050133717, 'total_time': 0.190292682}, 'model_name': 'deepseek-r1-distill-llama-70b', 'system_fingerprint': 'fp_1bbe7845ec', 'finish_reason': 'stop', 'logprobs': None}, id='run--10615467-3288-4c79-9f47-d263a88cfa80-0', usage_metadata={'input_tokens': 9, 'output_tokens': 42, 'total_tokens': 51})]}\n",
      "\n",
      "\n"
     ]
    }
   ],
   "source": [
    "for output in app.stream(input):\n",
    "    for key,value in output.items():\n",
    "        print(f\"Output from {key} Node\")\n",
    "        print(\"_______\")\n",
    "        print(value)\n",
    "        print(\"\\n\")"
   ]
  },
  {
   "cell_type": "markdown",
   "id": "4f8d5ca3",
   "metadata": {},
   "source": [
    "## workflow with tool calling"
   ]
  },
  {
   "cell_type": "code",
   "execution_count": 69,
   "id": "431d3090",
   "metadata": {},
   "outputs": [],
   "source": [
    "@tool\n",
    "def search(query:str):\n",
    "    \"\"\"this is my custom for seaching a weather\"\"\"\n",
    "    if \"delhi\" in query.lower():\n",
    "        return \"the temp is 45 degtrress and sunny \"\n",
    "    return \" the temp is 25 degress cloudy\""
   ]
  },
  {
   "cell_type": "code",
   "execution_count": 71,
   "id": "127b30f0",
   "metadata": {},
   "outputs": [
    {
     "data": {
      "text/plain": [
       "' the temp is 25 degress cloudy'"
      ]
     },
     "execution_count": 71,
     "metadata": {},
     "output_type": "execute_result"
    }
   ],
   "source": [
    "search.invoke(\"what is s temparature in kashmir?\")"
   ]
  },
  {
   "cell_type": "code",
   "execution_count": 75,
   "id": "e208aa62",
   "metadata": {},
   "outputs": [
    {
     "data": {
      "text/plain": [
       "'the temp is 45 degtrress and sunny '"
      ]
     },
     "execution_count": 75,
     "metadata": {},
     "output_type": "execute_result"
    }
   ],
   "source": [
    "search.invoke(\"what is s temparature in delhi?\")"
   ]
  },
  {
   "cell_type": "code",
   "execution_count": 73,
   "id": "6d3f8492",
   "metadata": {},
   "outputs": [
    {
     "data": {
      "text/plain": [
       "StructuredTool(name='search', description='this is my custom for seaching a weather', args_schema=<class 'langchain_core.utils.pydantic.search'>, func=<function search at 0x00000288BA6F9D00>)"
      ]
     },
     "execution_count": 73,
     "metadata": {},
     "output_type": "execute_result"
    }
   ],
   "source": [
    "search"
   ]
  },
  {
   "cell_type": "code",
   "execution_count": 74,
   "id": "eeb991f7",
   "metadata": {},
   "outputs": [
    {
     "data": {
      "text/plain": [
       "AIMessage(content=\"<think>\\n\\n</think>\\n\\nAs of my last update in July 2024, I cannot provide real-time weather information. However, Delhi generally experiences a humid subtropical climate with extreme variations in temperature throughout the year. Here's a breakdown of Delhi's typical weather:\\n\\n- **Summer (March to June):** Extremely hot with temperatures often reaching 45°C (113°F) or more.\\n- **Monsoon (July to September):** Hot and humid with frequent rain showers, but the rain can sometimes cause flooding.\\n- **Winter (December to February):** Cool to cold with temperatures dropping as low as 2-4°C (36-39°F). Fog is common during this season.\\n- **Autumn (October to November) and Spring (February to March):** Mild and pleasant with temperatures ranging from 12°C to 25°C (54°F to 77°F).\\n\\nFor the most accurate and current weather information, I recommend checking a reliable weather service like the India Meteorological Department (IMD) or a weather app.\", additional_kwargs={}, response_metadata={'token_usage': {'completion_tokens': 210, 'prompt_tokens': 12, 'total_tokens': 222, 'completion_time': 0.626303597, 'prompt_time': 0.017250337, 'queue_time': 0.049534413, 'total_time': 0.643553934}, 'model_name': 'deepseek-r1-distill-llama-70b', 'system_fingerprint': 'fp_1bbe7845ec', 'finish_reason': 'stop', 'logprobs': None}, id='run--ece6fa1f-67fa-4961-b331-8f45bf12fe96-0', usage_metadata={'input_tokens': 12, 'output_tokens': 210, 'total_tokens': 222})"
      ]
     },
     "execution_count": 74,
     "metadata": {},
     "output_type": "execute_result"
    }
   ],
   "source": [
    "llm.invoke(\"what  is a weather in delhi?\")"
   ]
  },
  {
   "cell_type": "markdown",
   "id": "b3504d47",
   "metadata": {},
   "source": [
    "## Bindind a tool to the llm\n"
   ]
  },
  {
   "cell_type": "markdown",
   "id": "55833b2d",
   "metadata": {},
   "source": []
  },
  {
   "cell_type": "code",
   "execution_count": null,
   "id": "3945b227",
   "metadata": {},
   "outputs": [],
   "source": []
  }
 ],
 "metadata": {
  "kernelspec": {
   "display_name": "Python 3",
   "language": "python",
   "name": "python3"
  },
  "language_info": {
   "codemirror_mode": {
    "name": "ipython",
    "version": 3
   },
   "file_extension": ".py",
   "mimetype": "text/x-python",
   "name": "python",
   "nbconvert_exporter": "python",
   "pygments_lexer": "ipython3",
   "version": "3.13.5"
  }
 },
 "nbformat": 4,
 "nbformat_minor": 5
}
