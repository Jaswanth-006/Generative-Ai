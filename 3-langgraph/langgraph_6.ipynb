{
 "cells": [
  {
   "cell_type": "markdown",
   "id": "beaeacff",
   "metadata": {},
   "source": [
    "MultiAgents"
   ]
  },
  {
   "cell_type": "markdown",
   "id": "0f1c2550",
   "metadata": {},
   "source": []
  },
  {
   "cell_type": "code",
   "execution_count": null,
   "id": "da29614f",
   "metadata": {},
   "outputs": [],
   "source": [
    "from dotenv import load_dotenv"
   ]
  }
 ],
 "metadata": {
  "language_info": {
   "name": "python"
  }
 },
 "nbformat": 4,
 "nbformat_minor": 5
}
