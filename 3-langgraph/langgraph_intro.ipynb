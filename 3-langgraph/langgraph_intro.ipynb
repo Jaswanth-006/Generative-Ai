{
 "cells": [
  {
   "cell_type": "code",
   "execution_count": 28,
   "id": "bbc3cb43",
   "metadata": {},
   "outputs": [
    {
     "name": "stdout",
     "output_type": "stream",
     "text": [
      "all ok\n"
     ]
    }
   ],
   "source": [
    "print(\"all ok\")"
   ]
  },
  {
   "cell_type": "code",
   "execution_count": 29,
   "id": "a9f6e954",
   "metadata": {},
   "outputs": [],
   "source": [
    "def function1(state: str) -> str:\n",
    "    return state + \" from first function\""
   ]
  },
  {
   "cell_type": "code",
   "execution_count": 30,
   "id": "97d1f19e",
   "metadata": {},
   "outputs": [],
   "source": [
    "def function2(state: str) -> str:\n",
    "    return state + \" from second function\""
   ]
  },
  {
   "cell_type": "code",
   "execution_count": 31,
   "id": "15cef78c",
   "metadata": {},
   "outputs": [],
   "source": [
    "def function3(input3):\n",
    "    pass"
   ]
  },
  {
   "cell_type": "code",
   "execution_count": 32,
   "id": "01edcb93",
   "metadata": {},
   "outputs": [
    {
     "data": {
      "text/plain": [
       "'sunny from first function'"
      ]
     },
     "execution_count": 32,
     "metadata": {},
     "output_type": "execute_result"
    }
   ],
   "source": [
    "function1(\"sunny\")"
   ]
  },
  {
   "cell_type": "code",
   "execution_count": 33,
   "id": "10399a00",
   "metadata": {},
   "outputs": [
    {
     "data": {
      "text/plain": [
       "'savita from second function'"
      ]
     },
     "execution_count": 33,
     "metadata": {},
     "output_type": "execute_result"
    }
   ],
   "source": [
    "function2(\"savita\")"
   ]
  },
  {
   "cell_type": "code",
   "execution_count": 34,
   "id": "7e01384d",
   "metadata": {},
   "outputs": [],
   "source": [
    "from langgraph.graph import StateGraph, START, END"
   ]
  },
  {
   "cell_type": "code",
   "execution_count": 35,
   "id": "2ad1af9b",
   "metadata": {},
   "outputs": [],
   "source": [
    "workflow = StateGraph(str) "
   ]
  },
  {
   "cell_type": "code",
   "execution_count": 36,
   "id": "8cb9ca55",
   "metadata": {},
   "outputs": [
    {
     "data": {
      "text/plain": [
       "<langgraph.graph.state.StateGraph at 0x1f3c1eaf610>"
      ]
     },
     "execution_count": 36,
     "metadata": {},
     "output_type": "execute_result"
    }
   ],
   "source": [
    "workflow.add_node(\"fun1\", function1)\n"
   ]
  },
  {
   "cell_type": "code",
   "execution_count": 37,
   "id": "506c2b20",
   "metadata": {},
   "outputs": [
    {
     "data": {
      "text/plain": [
       "<langgraph.graph.state.StateGraph at 0x1f3c1eaf610>"
      ]
     },
     "execution_count": 37,
     "metadata": {},
     "output_type": "execute_result"
    }
   ],
   "source": [
    "workflow.add_node(\"fun2\", function2)"
   ]
  },
  {
   "cell_type": "code",
   "execution_count": 38,
   "id": "e7f51242",
   "metadata": {},
   "outputs": [
    {
     "data": {
      "text/plain": [
       "<langgraph.graph.state.StateGraph at 0x1f3c1eaf610>"
      ]
     },
     "execution_count": 38,
     "metadata": {},
     "output_type": "execute_result"
    }
   ],
   "source": [
    "workflow.add_edge(START, \"fun1\")"
   ]
  },
  {
   "cell_type": "code",
   "execution_count": 39,
   "id": "9ea7616e",
   "metadata": {},
   "outputs": [
    {
     "data": {
      "text/plain": [
       "<langgraph.graph.state.StateGraph at 0x1f3c1eaf610>"
      ]
     },
     "execution_count": 39,
     "metadata": {},
     "output_type": "execute_result"
    }
   ],
   "source": [
    "workflow.add_edge(\"fun1\", \"fun2\")"
   ]
  },
  {
   "cell_type": "code",
   "execution_count": 40,
   "id": "107a2064",
   "metadata": {},
   "outputs": [
    {
     "data": {
      "text/plain": [
       "<langgraph.graph.state.StateGraph at 0x1f3c1eaf610>"
      ]
     },
     "execution_count": 40,
     "metadata": {},
     "output_type": "execute_result"
    }
   ],
   "source": [
    "workflow.add_edge(\"fun2\", END)"
   ]
  },
  {
   "cell_type": "code",
   "execution_count": 41,
   "id": "e96615cc",
   "metadata": {},
   "outputs": [],
   "source": [
    "app = workflow.compile()"
   ]
  },
  {
   "cell_type": "code",
   "execution_count": 42,
   "id": "eae0e52d",
   "metadata": {},
   "outputs": [],
   "source": [
    "result = app.invoke(\"hi this is jaswanth\")"
   ]
  },
  {
   "cell_type": "code",
   "execution_count": 43,
   "id": "c9fc8160",
   "metadata": {},
   "outputs": [
    {
     "name": "stdout",
     "output_type": "stream",
     "text": [
      "hi this is jaswanth from first function from second function\n"
     ]
    }
   ],
   "source": [
    "print(result)"
   ]
  },
  {
   "cell_type": "code",
   "execution_count": null,
   "id": "2ebcc8f3",
   "metadata": {},
   "outputs": [],
   "source": []
  }
 ],
 "metadata": {
  "kernelspec": {
   "display_name": "Python 3",
   "language": "python",
   "name": "python3"
  },
  "language_info": {
   "codemirror_mode": {
    "name": "ipython",
    "version": 3
   },
   "file_extension": ".py",
   "mimetype": "text/x-python",
   "name": "python",
   "nbconvert_exporter": "python",
   "pygments_lexer": "ipython3",
   "version": "3.13.5"
  }
 },
 "nbformat": 4,
 "nbformat_minor": 5
}
