{
 "cells": [
  {
   "cell_type": "code",
   "execution_count": null,
   "id": "2b5a4642",
   "metadata": {},
   "outputs": [],
   "source": [
    "from langchain_community.document_loaders import PyMuPDFLoader\n",
    "from langchain_community.document_loaders.parsers import TesseractBlobParser\n",
    "\n",
    "docs = PyMuPDFLoader(r\"D:\\GenAi\\Agentic ai\\2-langchain-basics\\2.4-VectorDatabase\\Pinecone\\ML FINAL (1).pdf\").load()\n",
    "\n",
    "\n",
    "len(docs)"
   ]
  }
 ],
 "metadata": {
  "language_info": {
   "name": "python"
  }
 },
 "nbformat": 4,
 "nbformat_minor": 5
}
